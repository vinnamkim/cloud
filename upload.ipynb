{
 "cells": [
  {
   "cell_type": "code",
   "execution_count": 6,
   "metadata": {},
   "outputs": [
    {
     "name": "stdout",
     "output_type": "stream",
     "text": [
      "env: GOOGLE_APPLICATION_CREDENTIALS=My First Project-2f5ecb8a6726.json\n"
     ]
    }
   ],
   "source": [
    "%env GOOGLE_APPLICATION_CREDENTIALS=My First Project-2f5ecb8a6726.json"
   ]
  },
  {
   "cell_type": "code",
   "execution_count": 8,
   "metadata": {},
   "outputs": [],
   "source": [
    "PROJECT_ID = 'civil-victory-231814'\n",
    "from google.cloud import storage\n",
    "storage_client = storage.Client(project=PROJECT_ID)\n",
    "bucket = storage_client.bucket('vinnamkim-imagenet')\n",
    "\n",
    "blob = bucket.blob('swa.tar')\n",
    "blob.upload_from_filename(\n",
    "    'swa.tar'\n",
    ")"
   ]
  },
  {
   "cell_type": "code",
   "execution_count": 8,
   "metadata": {},
   "outputs": [
    {
     "name": "stdout",
     "output_type": "stream",
     "text": [
      "logs/resnet50-unet-0/checkpoints/train.19.pth\n",
      "logs/resnet50-unet-0/checkpoints/train.22.pth\n",
      "logs/resnet50-unet-0/checkpoints/train.23.pth\n",
      "logs/resnet50-unet-0/checkpoints/train.24.pth\n",
      "logs/resnet50-unet-1/checkpoints/train.18.pth\n",
      "logs/resnet50-unet-1/checkpoints/train.22.pth\n",
      "logs/resnet50-unet-1/checkpoints/train.23.pth\n",
      "logs/resnet50-unet-1/checkpoints/train.24.pth\n",
      "logs/resnet50-unet-2/checkpoints/train.19.pth\n",
      "logs/resnet50-unet-2/checkpoints/train.21.pth\n",
      "logs/resnet50-unet-2/checkpoints/train.23.pth\n",
      "logs/resnet50-unet-2/checkpoints/train.24.pth\n",
      "logs/resnet50-unet-3/checkpoints/train.19.pth\n",
      "logs/resnet50-unet-3/checkpoints/train.20.pth\n",
      "logs/resnet50-unet-3/checkpoints/train.22.pth\n",
      "logs/resnet50-unet-3/checkpoints/train.24.pth\n"
     ]
    }
   ],
   "source": [
    "for i in range(0, 4):\n",
    "    !tar xvf resnet50-unet-{i}.tar"
   ]
  },
  {
   "cell_type": "code",
   "execution_count": 1,
   "metadata": {},
   "outputs": [
    {
     "name": "stdout",
     "output_type": "stream",
     "text": [
      "Collecting kaggle\n",
      "\u001b[?25l  Downloading https://files.pythonhosted.org/packages/62/ab/bb20f9b9e24f9a6250f95a432f8d9a7d745f8d24039d7a5a6eaadb7783ba/kaggle-1.5.6.tar.gz (58kB)\n",
      "\u001b[K    100% |████████████████████████████████| 61kB 18.0MB/s ta 0:00:01\n",
      "\u001b[?25hRequirement already satisfied: urllib3<1.25,>=1.21.1 in /opt/conda/lib/python3.7/site-packages (from kaggle) (1.23)\n",
      "Requirement already satisfied: six>=1.10 in /opt/conda/lib/python3.7/site-packages (from kaggle) (1.11.0)\n",
      "Requirement already satisfied: certifi in /opt/conda/lib/python3.7/site-packages (from kaggle) (2018.11.29)\n",
      "Requirement already satisfied: python-dateutil in /opt/conda/lib/python3.7/site-packages (from kaggle) (2.8.1)\n",
      "Requirement already satisfied: requests in /opt/conda/lib/python3.7/site-packages (from kaggle) (2.19.1)\n",
      "Requirement already satisfied: tqdm in /opt/conda/lib/python3.7/site-packages (from kaggle) (4.38.0)\n",
      "Collecting python-slugify (from kaggle)\n",
      "  Downloading https://files.pythonhosted.org/packages/92/5f/7b84a0bba8a0fdd50c046f8b57dcf179dc16237ad33446079b7c484de04c/python-slugify-4.0.0.tar.gz\n",
      "Requirement already satisfied: chardet<3.1.0,>=3.0.2 in /opt/conda/lib/python3.7/site-packages (from requests->kaggle) (3.0.4)\n",
      "Requirement already satisfied: idna<2.8,>=2.5 in /opt/conda/lib/python3.7/site-packages (from requests->kaggle) (2.7)\n",
      "Collecting text-unidecode>=1.3 (from python-slugify->kaggle)\n",
      "\u001b[?25l  Downloading https://files.pythonhosted.org/packages/a6/a5/c0b6468d3824fe3fde30dbb5e1f687b291608f9473681bbf7dabbf5a87d7/text_unidecode-1.3-py2.py3-none-any.whl (78kB)\n",
      "\u001b[K    100% |████████████████████████████████| 81kB 17.7MB/s ta 0:00:01\n",
      "\u001b[?25hBuilding wheels for collected packages: kaggle, python-slugify\n",
      "  Running setup.py bdist_wheel for kaggle ... \u001b[?25ldone\n",
      "\u001b[?25h  Stored in directory: /root/.cache/pip/wheels/57/4e/e8/bb28d035162fb8f17f8ca5d42c3230e284c6aa565b42b72674\n",
      "  Running setup.py bdist_wheel for python-slugify ... \u001b[?25ldone\n",
      "\u001b[?25h  Stored in directory: /root/.cache/pip/wheels/11/94/81/312969455540cb0e6a773e5d68a73c14128bfdfd4a7969bb4f\n",
      "Successfully built kaggle python-slugify\n",
      "Installing collected packages: text-unidecode, python-slugify, kaggle\n",
      "Successfully installed kaggle-1.5.6 python-slugify-4.0.0 text-unidecode-1.3\n",
      "\u001b[33mYou are using pip version 10.0.1, however version 19.3.1 is available.\n",
      "You should consider upgrading via the 'pip install --upgrade pip' command.\u001b[0m\n"
     ]
    }
   ],
   "source": [
    "!pip install kaggle"
   ]
  },
  {
   "cell_type": "code",
   "execution_count": 10,
   "metadata": {},
   "outputs": [
    {
     "name": "stdout",
     "output_type": "stream",
     "text": [
      "Warning: Your Kaggle API key is readable by other users on this system! To fix this, you can run 'chmod 600 /root/.kaggle/kaggle.json'\n",
      "100%|██████████████████████████████████████| 22.1M/22.1M [00:06<00:00, 3.57MB/s]\n",
      "Successfully submitted to Understanding Clouds from Satellite Images"
     ]
    }
   ],
   "source": [
    "!kaggle competitions submit -c understanding_cloud_organization -f submission.csv -m \"Message\""
   ]
  },
  {
   "cell_type": "code",
   "execution_count": 3,
   "metadata": {},
   "outputs": [
    {
     "name": "stdout",
     "output_type": "stream",
     "text": [
      "./logs/resnet34-unet20-0/swa.pth\n",
      "./logs/resnet34-unet20-1/swa.pth\n",
      "./logs/resnet34-unet20-2/swa.pth\n",
      "./logs/resnet34-unet20-3/swa.pth\n",
      "./logs/resnet34-unet20-4/swa.pth\n",
      "./logs/resnet34-unet20-5/swa.pth\n",
      "./logs/resnet34-unet20-6/swa.pth\n",
      "./logs/resnet34-unet20-7/swa.pth\n",
      "./logs/resnet34-unet20-8/swa.pth\n",
      "./logs/resnet34-unet20-9/swa.pth\n",
      "./logs/efficientnet-b3-unet-0/swa.pth\n",
      "./logs/efficientnet-b3-unet-1/swa.pth\n",
      "./logs/efficientnet-b3-unet-2/swa.pth\n",
      "./logs/efficientnet-b3-unet-3/swa.pth\n",
      "./logs/efficientnet-b3-unet-4/swa.pth\n",
      "./logs/efficientnet-b3-unet-5/swa.pth\n",
      "./logs/efficientnet-b3-unet-6/swa.pth\n",
      "./logs/efficientnet-b3-unet-7/swa.pth\n",
      "./logs/efficientnet-b3-unet-8/swa.pth\n",
      "./logs/efficientnet-b3-unet-9/swa.pth\n"
     ]
    }
   ],
   "source": [
    "!find ./logs/ | grep swa | xargs tar cvf swa.tar"
   ]
  },
  {
   "cell_type": "code",
   "execution_count": 4,
   "metadata": {},
   "outputs": [
    {
     "name": "stdout",
     "output_type": "stream",
     "text": [
      "Filesystem     1K-blocks     Used Available Use% Mounted on\r\n",
      "overlay         31457280 19290408  12166872  62% /\r\n",
      "tmpfs              65536        0     65536   0% /dev\r\n",
      "tmpfs           16303324        0  16303324   0% /sys/fs/cgroup\r\n",
      "shm              4194304        0   4194304   0% /dev/shm\r\n",
      "/dev/sda1      488147068 92208760 395938308  19% /etc/hosts\r\n",
      "tmpfs           16303324       12  16303312   1% /proc/driver/nvidia\r\n",
      "/dev/sdb2       15617436  7430756   7370296  51% /usr/bin/nvidia-smi\r\n",
      "tmpfs            3260668   330008   2930660  11% /run/nvidia-persistenced/socket\r\n",
      "udev            16267068        0  16267068   0% /dev/nvidia3\r\n",
      "tmpfs           16303324        0  16303324   0% /proc/asound\r\n",
      "tmpfs           16303324        0  16303324   0% /proc/acpi\r\n",
      "tmpfs           16303324        0  16303324   0% /proc/scsi\r\n",
      "tmpfs           16303324        0  16303324   0% /sys/firmware\r\n"
     ]
    }
   ],
   "source": [
    "!df"
   ]
  },
  {
   "cell_type": "code",
   "execution_count": 6,
   "metadata": {},
   "outputs": [
    {
     "name": "stdout",
     "output_type": "stream",
     "text": [
      "Thu Nov 14 11:53:14 2019       \r\n",
      "+-----------------------------------------------------------------------------+\r\n",
      "| NVIDIA-SMI 415.27       Driver Version: 415.27       CUDA Version: 10.0     |\r\n",
      "|-------------------------------+----------------------+----------------------+\r\n",
      "| GPU  Name        Persistence-M| Bus-Id        Disp.A | Volatile Uncorr. ECC |\r\n",
      "| Fan  Temp  Perf  Pwr:Usage/Cap|         Memory-Usage | GPU-Util  Compute M. |\r\n",
      "|===============================+======================+======================|\r\n",
      "|   0  GeForce GTX 108...  On   | 00000000:03:00.0 Off |                  N/A |\r\n",
      "| 34%   63C    P2   255W / 250W |   7679MiB / 11178MiB |     99%      Default |\r\n",
      "+-------------------------------+----------------------+----------------------+\r\n",
      "                                                                               \r\n",
      "+-----------------------------------------------------------------------------+\r\n",
      "| Processes:                                                       GPU Memory |\r\n",
      "|  GPU       PID   Type   Process name                             Usage      |\r\n",
      "|=============================================================================|\r\n",
      "+-----------------------------------------------------------------------------+\r\n"
     ]
    }
   ],
   "source": [
    "!nvidia-smi"
   ]
  },
  {
   "cell_type": "code",
   "execution_count": null,
   "metadata": {},
   "outputs": [],
   "source": []
  }
 ],
 "metadata": {
  "kernelspec": {
   "display_name": "Python 3",
   "language": "python",
   "name": "python3"
  },
  "language_info": {
   "codemirror_mode": {
    "name": "ipython",
    "version": 3
   },
   "file_extension": ".py",
   "mimetype": "text/x-python",
   "name": "python",
   "nbconvert_exporter": "python",
   "pygments_lexer": "ipython3",
   "version": "3.7.1"
  }
 },
 "nbformat": 4,
 "nbformat_minor": 2
}
